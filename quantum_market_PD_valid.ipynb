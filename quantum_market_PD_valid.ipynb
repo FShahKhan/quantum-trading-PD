{
 "cells": [
  {
   "cell_type": "markdown",
   "id": "35c29b99",
   "metadata": {},
   "source": [
    "# Quantum Advantage in Market Games\n",
    "Simulate quantum vs classical strategy in a Prisoner's Dilemma market game."
   ]
  },
  {
   "cell_type": "code",
   "execution_count": null,
   "id": "4c22cde5",
   "metadata": {},
   "outputs": [],
   "source": [
    "from qiskit import QuantumCircuit, Aer, execute\n",
    "from numpy import pi\n",
    "import matplotlib.pyplot as plt\n",
    "\n",
    "def quantum_strategy_game(theta_A, theta_B):\n",
    "    qc = QuantumCircuit(2, 2)\n",
    "    qc.h(0)\n",
    "    qc.h(1)\n",
    "\n",
    "    qc.ry(theta_A, 0)\n",
    "    qc.ry(theta_B, 1)\n",
    "\n",
    "    qc.cx(0, 1)\n",
    "    qc.measure([0,1], [0,1])\n",
    "\n",
    "    simulator = Aer.get_backend('qasm_simulator')\n",
    "    job = execute(qc, backend=simulator, shots=1024)\n",
    "    result = job.result().get_counts()\n",
    "\n",
    "    return result\n",
    "\n",
    "# Example: theta_A = pi/3 (quantum trader), theta_B = 0 (classical)\n",
    "counts = quantum_strategy_game(pi/3, 0)\n",
    "\n",
    "# Plot\n",
    "plt.bar(counts.keys(), counts.values())\n",
    "plt.title(\"Quantum vs Classical Prisoner's Dilemma\")\n",
    "plt.xlabel(\"Outcomes\")\n",
    "plt.ylabel(\"Counts\")\n",
    "plt.show()"
   ]
  }
 ],
 "metadata": {},
 "nbformat": 4,
 "nbformat_minor": 5
}
