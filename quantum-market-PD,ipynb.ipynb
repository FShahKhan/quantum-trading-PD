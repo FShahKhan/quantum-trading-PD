
{
 "cells": [
  {
   "cell_type": "markdown",
   "metadata": {},
   "source": [
    "# Quantum Market Game Simulation (Based on Khan et al.)\n",
    "This notebook simulates classical and quantum strategic behavior in a market using Qiskit.\n",
    "It models how quantum players can gain advantage in Prisoner's Dilemma-like regimes."
   ]
  },
  {
   "cell_type": "code",
   "execution_count": null,
   "metadata": {},
   "outputs": [],
   "source": [
    "# Install Qiskit if not already\n",
    "!pip install qiskit --quiet"
   ]
  },
  {
   "cell_type": "code",
   "execution_count": null,
   "metadata": {},
   "outputs": [],
   "source": [
    "from qiskit import QuantumCircuit, Aer, transpile, assemble, execute\n",
    "import numpy as np\n",
    "import matplotlib.pyplot as plt"
   ]
  },
  {
   "cell_type": "code",
   "execution_count": null,
   "metadata": {},
   "outputs": [],
   "source": [
    "# Create quantum circuit with entanglement and strategic angles\n",
    "def create_quantum_game(theta_1=np.pi/2, theta_2=np.pi/4):\n",
    "    qc = QuantumCircuit(2)\n",
    "    \n",
    "    # Entangle\n",
    "    qc.h(0)\n",
    "    qc.cx(0, 1)\n",
    "    \n",
    "    # Apply strategy (rotation around Y axis)\n",
    "    qc.ry(2 * theta_1, 0)\n",
    "    qc.ry(2 * theta_2, 1)\n",
    "    \n",
    "    # Undo entanglement\n",
    "    qc.cx(0, 1)\n",
    "    qc.h(0)\n",
    "    \n",
    "    qc.measure_all()\n",
    "    return qc"
   ]
  },
  {
   "cell_type": "code",
   "execution_count": null,
   "metadata": {},
   "outputs": [],
   "source": [
    "# Run simulation\n",
    "def run_game(theta_1, theta_2, shots=1024):\n",
    "    qc = create_quantum_game(theta_1, theta_2)\n",
    "    backend = Aer.get_backend('aer_simulator')\n",
    "    t_qc = transpile(qc, backend)\n",
    "    qobj = assemble(t_qc, shots=shots)\n",
    "    result = execute(qc, backend=backend, shots=shots).result()\n",
    "    counts = result.get_counts()\n",
    "    return counts"
   ]
  },
  {
   "cell_type": "code",
   "execution_count": null,
   "metadata": {},
   "outputs": [],
   "source": [
    "# Example usage: quantum player vs classical\n",
    "theta_q = np.pi / 4  # quantum strategy\n",
    "theta_c = 0          # classical strategy (e.g., defect)\n",
    "\n",
    "counts = run_game(theta_q, theta_c)\n",
    "print("Measurement outcomes:", counts)"
   ]
  }
 ],
 "metadata": {
  "kernelspec": {
   "display_name": "Python 3",
   "language": "python",
   "name": "python3"
  },
  "language_info": {
   "name": "python",
   "version": "3.9"
  }
 },
 "nbformat": 4,
 "nbformat_minor": 5
}
